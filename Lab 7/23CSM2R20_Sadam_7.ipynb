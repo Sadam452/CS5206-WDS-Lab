{
  "nbformat": 4,
  "nbformat_minor": 0,
  "metadata": {
    "colab": {
      "provenance": []
    },
    "kernelspec": {
      "name": "python3",
      "display_name": "Python 3"
    },
    "language_info": {
      "name": "python"
    }
  },
  "cells": [
    {
      "cell_type": "markdown",
      "source": [
        "#Implement Bell-LaPadula model using any scenario of your choice.\n",
        "Explanation:\\\n",
        "I have taken 4 subjects and 4 objects under consideration namely - {\"S1\":3, \"S2\":2, \"S3\":1, \"S4\":0, \"O1\":3, \"O2\":2, \"O3\":1, \"O4\":0}\\\n",
        "Each subject &  is mapped to some integer(for easily mathematics only)\\\n",
        "Access Control Matrix M = [[\"rwea\", \"r\", \"r\", \"r\"], [\"w\", \"rwea\", \"r\", \"r\"], [\"w\", \"w\", \"rwea\", \"r\"], [\"ra\", \"ra\", \"r\", \"rwea\"]] defines the different accesses that a subject has over an object.\\\n",
        "classification' contains the classification of subjects and objects into one of the following\\\n",
        "    \"Top Secret - 3\"\\\n",
        "    \"Secret - 2\"\\\n",
        "    \"Classified - 1\"\\\n",
        "    \"Untrusted - 0\"\n",
        "\n",
        "f maintains the 'clearance and current security level of subject'\\\n",
        "H keeps track of active and inactive objects.\\\n",
        "All the 8 operations are implemented and all security principles are taken care of. Refer functions for more detail.(Code is self explanatory)."
      ],
      "metadata": {
        "id": "C8uYKKcxlDM-"
      }
    },
    {
      "cell_type": "code",
      "source": [
        "#subject requests access m on object\n",
        "def getAccess(M, b, map, f, classification, subject, obj, m):\n",
        "  #Ensure star, ss property and DS property\n",
        "  #star property for untrusted subjects\n",
        "  if classification[subject] == 0: #untrusted subject\n",
        "    #append\n",
        "    if m == \"a\" and f[subject][0] <= classification[obj]:\n",
        "      M[map[subject]][map[obj]] += m\n",
        "    elif m == \"w\" and f[subject][0] == classification[obj]:\n",
        "      M[map[subject]][map[obj]] += m\n",
        "    elif m == \"r\" and f[subject][0] >= classification[obj]:\n",
        "      M[map[subject]][map[obj]] += m\n",
        "    else:\n",
        "      print(\"Star Property(*) Voilated.\")\n",
        "      return\n",
        "  else:\n",
        "    #ensure SS property\n",
        "    if m == \"r\" and f[subject][0] >= classification[obj]:\n",
        "      M[map[subject]][map[obj]] += m\n",
        "    elif m == \"w\" and f[subject][0] <= classification[obj]:\n",
        "      M[map[subject]][map[obj]] += m\n",
        "    else:\n",
        "      print(\"Simple Security Property Voilated.\")\n",
        "      return\n",
        "  #add <s , o, m> triple to b\n",
        "  b = [subject, obj, m]\n",
        "  print(subject,\" successfully granted \", m, \" access to \", obj)"
      ],
      "metadata": {
        "id": "sEmjkpJWqrMB"
      },
      "execution_count": null,
      "outputs": []
    },
    {
      "cell_type": "code",
      "source": [
        "def relAccess(M, map, subject, obj, m):\n",
        "  M[map[subject]][map[obj]].replace(m, \"\")\n",
        "  print(\"Access released.\")"
      ],
      "metadata": {
        "id": "B4T8DE32qzEG"
      },
      "execution_count": null,
      "outputs": []
    },
    {
      "cell_type": "code",
      "source": [
        "def giveAccess(M, map, f, classification, subject, obj, sub, m):\n",
        "  #subject gives access on obj to sub\n",
        "  #take care of Discretionary security property\n",
        "  if M[map[subject]][map[obj]].find(m) != -1:\n",
        "    if f[subject][0] >= f[sub][0]:\n",
        "      if m == \"r\" and f[sub][0] >= classification[obj]:\n",
        "        M[map[sub]][map[obj]] += m\n",
        "      elif m == \"w\" and f[sub][0] <= classification[obj]:\n",
        "        M[map[sub]][map[obj]] += m\n",
        "    else:\n",
        "      print(\"Less trusted subject can't grant access to high trusted subject.\")\n",
        "      return\n",
        "  else:\n",
        "    print(\"Discretionary security property Voilated.\")\n",
        "    return\n",
        "  print(\"Success [Granted].\")"
      ],
      "metadata": {
        "id": "UerV-Hq9q2wI"
      },
      "execution_count": null,
      "outputs": []
    },
    {
      "cell_type": "code",
      "source": [
        "def rescindAccess(M, map, f, classification, subject, obj, sub, m):\n",
        "  #subject revokes access on obj from sub\n",
        "  #take care of Discretionary security property\n",
        "  if M[map[sub]][map[obj]].find(m) != -1:\n",
        "    if f[subject][0] >= f[sub][0]:\n",
        "        M[map[sub]][map[obj]].replace(m, \"\")\n",
        "    else:\n",
        "      print(\"Less trusted subject can't revoke access from high trusted subject.\")\n",
        "      return\n",
        "  else:\n",
        "    print(\"Discretionary security property Voilated.\")\n",
        "    return\n",
        "  print(\"Access revoked [Success].\")"
      ],
      "metadata": {
        "id": "tZquK6ezq5bf"
      },
      "execution_count": null,
      "outputs": []
    },
    {
      "cell_type": "code",
      "source": [
        "def createObject(H, object):\n",
        "  #assign new state to new object\n",
        "  #'Rewriting of Objects' property\n",
        "  H.append(object)"
      ],
      "metadata": {
        "id": "G7gpGNuAq98o"
      },
      "execution_count": null,
      "outputs": []
    },
    {
      "cell_type": "code",
      "source": [
        "def deleteObject(H, obj):\n",
        "  if obj not in H:\n",
        "    print(\"Aborted. Object inactive.\")\n",
        "    return\n",
        "  H.remove(obj)\n",
        "  print(\"Success. Object deleted.\")"
      ],
      "metadata": {
        "id": "SpH7fy7yrBX5"
      },
      "execution_count": null,
      "outputs": []
    },
    {
      "cell_type": "code",
      "source": [
        "def changeSubjectSecurityLevel(subject, sub, classification):\n",
        "  if classification[subject] >= classification[sub]:\n",
        "    if classification[sub] == 0:\n",
        "      print(\"Can't reduce security level of specified subject. Already untrusted category. Aborted.\")\n",
        "    else:\n",
        "      classification[sub] -= 1\n",
        "  else:\n",
        "      print(\"Less trusted subject can't modify security level of high trusted subject.\")\n",
        "      return\n",
        "  print(sub, \" Security level downgraded[Success].\")"
      ],
      "metadata": {
        "id": "z175-Fd3rE-2"
      },
      "execution_count": null,
      "outputs": []
    },
    {
      "cell_type": "code",
      "source": [
        "def changeObjectSecurityLevel(subject, obj, H, classification):\n",
        "  #make sure 'Tranquility principle' is satisfied\n",
        "  if obj in H:\n",
        "    print(\"Tranquility principle voilated. Aborted.\")\n",
        "    return\n",
        "  if classification[subject] >= classification[obj]:\n",
        "    if classification[obj] == 0:\n",
        "      print(\"Can't reduce security level of specified object. Already untrusted category. Aborted.\")\n",
        "    else:\n",
        "      classification[obj] -= 1\n",
        "  else:\n",
        "      print(\"Less trusted subject can't modify security level of highly trusted subject.\")\n",
        "      return\n",
        "  print(obj, \" Security level downgraded[Success].\")"
      ],
      "metadata": {
        "id": "uyF_zirqrLWe"
      },
      "execution_count": null,
      "outputs": []
    },
    {
      "cell_type": "code",
      "source": [
        "def readObj(subject, obj):\n",
        "  #'Non-accessibility of inactive objects'\n",
        "  if obj not in H:\n",
        "    print(\"Non-accessibility of inactive objects voilated. Aborted.\")\n",
        "  else:\n",
        "    if f[subject][0] >= classification[obj]:\n",
        "      print(subject, \" read on \", obj ,\" is successful.\")\n",
        "    else:\n",
        "      print(\"[READ]-Security voilation. Aborted.\")\n"
      ],
      "metadata": {
        "id": "TzX0eYIXYuuN"
      },
      "execution_count": null,
      "outputs": []
    },
    {
      "cell_type": "code",
      "source": [
        "def writeObj(subject, obj):\n",
        "  #'Non-accessibility of inactive objects'\n",
        "  if obj not in H:\n",
        "    print(\"Non-accessibility of inactive objects voilated. Aborted.\")\n",
        "  else:\n",
        "    if f[subject][0] <= classification[obj]:\n",
        "      print(subject, \" write to \", obj ,\" is successful.\")\n",
        "    else:\n",
        "      print(\"[WRITE]-Security voilation. Aborted.\")"
      ],
      "metadata": {
        "id": "EAIZTA5Las-c"
      },
      "execution_count": null,
      "outputs": []
    },
    {
      "cell_type": "code",
      "source": [
        "#M is the access control matrix\n",
        "M = [[\"rwea\", \"r\", \"r\", \"r\"], [\"w\", \"rwea\", \"r\", \"r\"], [\"w\", \"w\", \"rwea\", \"r\"], [\"ra\", \"ra\", \"r\", \"rwea\"]]\n",
        "#b represents access 'm' that a subject has over an object 'o' currently : triplet\n",
        "b = []\n",
        "#f is level function. \"O1\":[\"TS\", \"S\"] means subject S1 has clearance level = TS and current security level = S\n",
        "#TS->3 S->2 C->1 U->0\n",
        "classification = {\"S1\":3, \"S2\":2, \"S3\":1, \"S4\":0, \"O1\":3, \"O2\":2, \"O3\":1, \"O4\":0}\n",
        "map = {\"S1\":3, \"S2\":2, \"S3\":1, \"S4\":0, \"O1\":3, \"O2\":2, \"O3\":1, \"O4\":0}\n",
        "#Note classification and map are two different things. They are same in our case, it is just a coincidence.\n",
        "# H represents active objects\n",
        "H = []\n",
        "f = {\"S1\":[3, 1], \"S2\":[2, 2], \"S3\":[0, 0]}\n",
        "createObject(H, \"O1\")\n",
        "#read should be successful\n",
        "readObj(\"S1\", \"O1\")\n",
        "#read should fail\n",
        "readObj(\"S2\", \"O1\")\n",
        "#voilation again\n",
        "readObj(\"S2\", \"O2\")\n",
        "#more voilation..O1 is activated already.\n",
        "changeObjectSecurityLevel(\"S1\", \"O1\", H, classification)\n",
        "#create object O2\n",
        "createObject(H, \"O2\")\n",
        "#write down - voilation\n",
        "writeObj(\"S1\", \"O2\")\n",
        "#write up - success\n",
        "writeObj(\"S2\", \"O1\")\n",
        "#subject s2 tries to get read access to object o1 - voilation\n",
        "getAccess(M, b, map, f, classification, \"S2\", \"O1\", \"r\")\n",
        "#subject s2 tries to get read access to object o2 - success\n",
        "getAccess(M, b, map, f, classification, \"S2\", \"O2\", \"r\")\n",
        "#S2 tries to give access to S1, which S2 doesnot possess - discretionary principle voilated.\n",
        "giveAccess(M, map, f, classification, \"S2\", \"O1\", \"S1\", \"w\")\n",
        "#S1 tries to give read access to S2 on O2 - successful as it is valid operation.\n",
        "giveAccess(M, map, f, classification, \"S1\", \"O2\", \"S2\", \"r\")\n",
        "#S1 revokes read access to S2 on O2 - successful as it is valid operation.\n",
        "rescindAccess(M, map, f, classification, \"S1\", \"O2\", \"S2\", \"r\")\n",
        "#S2 releases read access on O2\n",
        "relAccess(M, map, \"S2\", \"O2\", \"r\")\n",
        "#S2 tries to change security level of S1 - voilation of rules\n",
        "changeSubjectSecurityLevel(\"S2\", \"S1\", classification)\n",
        "#S2 tries to change security level of S3 - Allowed\n",
        "changeSubjectSecurityLevel(\"S2\", \"S3\", classification)\n",
        "deleteObject(H, \"O3\")\n",
        "deleteObject(H, \"O1\")\n",
        "deleteObject(H, \"O2\")"
      ],
      "metadata": {
        "id": "oGwY3a_llCH0",
        "colab": {
          "base_uri": "https://localhost:8080/"
        },
        "outputId": "36b35e9b-4789-437a-b594-7d385cd1eb0f"
      },
      "execution_count": null,
      "outputs": [
        {
          "output_type": "stream",
          "name": "stdout",
          "text": [
            "S1  read on  O1  is successful.\n",
            "[READ]-Security voilation. Aborted.\n",
            "Non-accessibility of inactive objects voilated. Aborted.\n",
            "Tranquility principle voilated. Aborted.\n",
            "[WRITE]-Security voilation. Aborted.\n",
            "S2  write to  O1  is successful.\n",
            "Simple Security Property Voilated.\n",
            "S2  successfully granted  r  access to  O2\n",
            "Discretionary security property Voilated.\n",
            "Success [Granted].\n",
            "Access revoked [Success].\n",
            "Access released.\n",
            "Less trusted subject can't modify security level of high trusted subject.\n",
            "S3  Security level downgraded[Success].\n",
            "Aborted. Object inactive.\n",
            "Success. Object deleted.\n",
            "Success. Object deleted.\n"
          ]
        }
      ]
    }
  ]
}